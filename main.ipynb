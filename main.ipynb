{
 "cells": [
  {
   "cell_type": "code",
   "execution_count": 1,
   "id": "afaf0ef6",
   "metadata": {},
   "outputs": [],
   "source": [
    "import torch\n",
    "from torch import nn\n",
    "from torch import Tensor\n",
    "from torch.nn import functional as F\n",
    "\n",
    "from torchvision.datasets import MNIST\n",
    "from torch.utils.data import DataLoader\n",
    "from torchvision.transforms import Compose, ToTensor, Normalize, Lambda\n",
    "\n",
    "from tqdm import tqdm\n",
    "from matplotlib import pyplot as plt"
   ]
  },
  {
   "cell_type": "code",
   "execution_count": 2,
   "id": "5a2470bf",
   "metadata": {},
   "outputs": [],
   "source": [
    "def mnist_loader(train_batch_size: int=1, test_batch_size: int=1) -> (DataLoader, DataLoader):\n",
    "    '''\n",
    "    pytorch MNIST train & test 데이터 로더 반환\n",
    "    + z-normalization\n",
    "    + Flatten\n",
    "    '''\n",
    "    transform = Compose([\n",
    "        ToTensor(),\n",
    "        Normalize(mean=(0.1307, ), std=(0.3081, )),\n",
    "        Lambda(lambda x: torch.flatten(x)),\n",
    "    ])\n",
    "    \n",
    "    train_loader = DataLoader(\n",
    "        MNIST(\n",
    "            root='./mnist/',\n",
    "            train=True,\n",
    "            transform=transform,\n",
    "            download=True\n",
    "        ), shuffle=True, batch_size=train_batch_size\n",
    "    )\n",
    "    \n",
    "    test_loader = DataLoader(\n",
    "        MNIST(\n",
    "            root='./mnist/',\n",
    "            train=False,\n",
    "            transform=transform,\n",
    "            download=True\n",
    "        ), shuffle=False, batch_size=test_batch_size\n",
    "    )\n",
    "    return train_loader, test_loader"
   ]
  },
  {
   "cell_type": "code",
   "execution_count": 3,
   "id": "66c0ff6a",
   "metadata": {
    "scrolled": false
   },
   "outputs": [],
   "source": [
    "def create_input_data(x: Tensor, y: Tensor) -> Tensor:\n",
    "    '''\n",
    "    forward-forward Model 입력 데이터 반환\n",
    "    \n",
    "    X shape: Batch x 784(Ch * Height * Width)\n",
    "    Y shape: Batch x Label\n",
    "    '''\n",
    "    batch_size = y.size(0)\n",
    "    \n",
    "    x_ = x.clone()\n",
    "    x_[:, :10] = 0.\n",
    "    x_[range(batch_size), y] = x_.max()\n",
    "    return x_"
   ]
  },
  {
   "cell_type": "code",
   "execution_count": 4,
   "id": "80796f08",
   "metadata": {},
   "outputs": [],
   "source": [
    "class FFLinear(nn.Linear):\n",
    "    __constants__ = ('in_features', 'out_features')\n",
    "    in_features: int\n",
    "    out_features: int\n",
    "    weight: Tensor\n",
    "        \n",
    "    def __init__(self, in_feature: int, out_features: int, bias: bool=True, device=None, dtype=None) -> None:\n",
    "        factory_kwargs = {'device': device, 'dtype': dtype}\n",
    "        super(FFLinear, self).__init__(in_feature, out_features, bias, **factory_kwargs)\n",
    "        \n",
    "        self.activation = nn.ReLU()\n",
    "        self.optim = torch.optim.SGD(self.parameters(), lr=0.01)\n",
    "        self.threshold = 2.0\n",
    "        \n",
    "    def forward(self, input) -> Tensor:\n",
    "        return F.linear(input, self.weight, self.bias)\n",
    "    \n",
    "    def update(self, pos_x, neg_x) -> Tensor:\n",
    "        pass\n",
    "    \n",
    "    def __layerNorm(self, input: Tensor, eps: float=1e-4) -> Tensor:\n",
    "        '''\n",
    "        + 참고 repository의 정규화 코드\n",
    "        input / (input.norm(p=2, dim=1, keepdim=True) + 1e-4)\n",
    "        \n",
    "        ## https://github.com/mohammadpz/pytorch_forward_forward/blob/main/main.py\n",
    "        '''\n",
    "        \n",
    "        mean_ = input.mean(dim=1, keepdim=True)\n",
    "        var_ = input.var(dim=1, keepdim=True, unbiased=False) #unbiased True=(N-1), False=N\n",
    "        return (input - mean_) / torch.sqrt(var + eps)"
   ]
  },
  {
   "cell_type": "code",
   "execution_count": 18,
   "id": "548cdf5a",
   "metadata": {},
   "outputs": [
    {
     "name": "stdout",
     "output_type": "stream",
     "text": [
      "tensor([[ 1.0942,  0.3430, -1.4909, -0.3613, -2.2951],\n",
      "        [ 1.7743,  0.0248,  0.1637,  0.2644,  0.5107]])\n",
      "tensor([[ 1.3389,  0.7242, -0.7765,  0.1479, -1.4346],\n",
      "        [ 1.9362, -0.8251, -0.6059, -0.4470, -0.0582]])\n",
      "tensor([[ 1.3389,  0.7242, -0.7764,  0.1479, -1.4345],\n",
      "        [ 1.9360, -0.8250, -0.6059, -0.4470, -0.0582]])\n"
     ]
    }
   ],
   "source": [
    "tens = torch.randn(2, 5)\n",
    "layerNorm = torch.nn.LayerNorm(5, elementwise_affine = False)\n",
    "\n",
    "print(tens)\n",
    "print(layerNorm(tens))\n",
    "\n",
    "mean_ = tens.mean(dim=1, keepdim=True)\n",
    "var = tens.var(dim=1, keepdim=True, unbiased=False)\n",
    "\n",
    "print((tens - mean_) / torch.sqrt(var + 1e-4))"
   ]
  },
  {
   "cell_type": "code",
   "execution_count": 5,
   "id": "7949165b",
   "metadata": {},
   "outputs": [
    {
     "name": "stdout",
     "output_type": "stream",
     "text": [
      "tensor([[-1.7091,  0.8794,  1.9976,  2.6119,  2.8200],\n",
      "        [ 1.1504,  0.9328,  1.7525, -1.1793,  1.8903]])\n",
      "tensor([[-0.3606,  0.1856,  0.4215,  0.5511,  0.5950],\n",
      "        [ 0.3597,  0.2917,  0.5480, -0.3687,  0.5910]])\n"
     ]
    }
   ],
   "source": [
    "tens = torch.randn(2, 5)\n",
    "\n",
    "print(tens)\n",
    "print(tens / (tens.norm(p=2, dim=1, keepdim=True)))"
   ]
  },
  {
   "cell_type": "code",
   "execution_count": 6,
   "id": "7c210cd9",
   "metadata": {
    "scrolled": false
   },
   "outputs": [
    {
     "name": "stdout",
     "output_type": "stream",
     "text": [
      "tensor([[ 0.0000,  2.8215,  0.0000,  ..., -0.4242, -0.4242, -0.4242],\n",
      "        [ 2.8215,  0.0000,  0.0000,  ..., -0.4242, -0.4242, -0.4242],\n",
      "        [ 2.8215,  0.0000,  0.0000,  ..., -0.4242, -0.4242, -0.4242],\n",
      "        [ 0.0000,  0.0000,  0.0000,  ..., -0.4242, -0.4242, -0.4242]])\n",
      "tensor([[ 0.0000,  0.1170,  0.0000,  ..., -0.0176, -0.0176, -0.0176],\n",
      "        [ 0.0937,  0.0000,  0.0000,  ..., -0.0141, -0.0141, -0.0141],\n",
      "        [ 0.0767,  0.0000,  0.0000,  ..., -0.0115, -0.0115, -0.0115],\n",
      "        [ 0.0000,  0.0000,  0.0000,  ..., -0.0155, -0.0155, -0.0155]])\n",
      "tensor([[ 0.1538,  3.4660,  0.1538,  ..., -0.3442, -0.3442, -0.3442],\n",
      "        [ 2.5507, -0.0786, -0.0786,  ..., -0.4740, -0.4740, -0.4740],\n",
      "        [ 1.9563, -0.2632, -0.2632,  ..., -0.5969, -0.5969, -0.5969],\n",
      "        [ 0.0065,  0.0065,  0.0065,  ..., -0.4267, -0.4267, -0.4267]])\n"
     ]
    }
   ],
   "source": [
    "train_loader, test_loader = mnist_loader(train_batch_size=4, test_batch_size=1)\n",
    "\n",
    "for x, y in train_loader:\n",
    "    break\n",
    "\n",
    "input_ = create_input_data(x, y)\n",
    "print(input_)\n",
    "print(input_ / (input_.norm(p=2, dim=1, keepdim=True) + 1e-4)) #-> (∑|x|**p)**(1/p)\n",
    "\n",
    "mean_ = input_.mean(dim=1, keepdim=True)\n",
    "var = input_.var(dim=1, keepdim=True, unbiased=True)\n",
    "\n",
    "print((input_ - mean_) / torch.sqrt(var + 1e-4))"
   ]
  },
  {
   "cell_type": "code",
   "execution_count": null,
   "id": "db5d7b0d",
   "metadata": {},
   "outputs": [],
   "source": []
  },
  {
   "cell_type": "code",
   "execution_count": null,
   "id": "9de459c1",
   "metadata": {},
   "outputs": [],
   "source": []
  }
 ],
 "metadata": {
  "kernelspec": {
   "display_name": "Python 3 (ipykernel)",
   "language": "python",
   "name": "python3"
  },
  "language_info": {
   "codemirror_mode": {
    "name": "ipython",
    "version": 3
   },
   "file_extension": ".py",
   "mimetype": "text/x-python",
   "name": "python",
   "nbconvert_exporter": "python",
   "pygments_lexer": "ipython3",
   "version": "3.9.12"
  }
 },
 "nbformat": 4,
 "nbformat_minor": 5
}
