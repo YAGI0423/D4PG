{
 "cells": [
  {
   "cell_type": "code",
   "execution_count": 1,
   "id": "afaf0ef6",
   "metadata": {},
   "outputs": [],
   "source": [
    "import torch\n",
    "from torch import nn\n",
    "from torch import Tensor\n",
    "from torch.nn import functional as F\n",
    "\n",
    "from torchvision.datasets import MNIST\n",
    "from torch.utils.data import DataLoader\n",
    "from torchvision.transforms import Compose, ToTensor, Normalize, Lambda\n",
    "\n",
    "from tqdm import tqdm\n",
    "from matplotlib import pyplot as plt"
   ]
  },
  {
   "cell_type": "code",
   "execution_count": 62,
   "id": "3ec194b9",
   "metadata": {
    "scrolled": false
   },
   "outputs": [
    {
     "name": "stdout",
     "output_type": "stream",
     "text": [
      "tensor(4)\n"
     ]
    },
    {
     "data": {
      "image/png": "[encoded data removed]",
      "text/plain": [
       "<Figure size 640x480 with 1 Axes>"
      ]
     },
     "metadata": {},
     "output_type": "display_data"
    }
   ],
   "source": [
    "class MnistLoader:\n",
    "    def __init__(self, train: bool, batch_size: int):\n",
    "        self.batch_size = batch_size\n",
    "        self.dataLoader = iter(self.__mnist_loader(train=train, batch_size=batch_size))\n",
    "    \n",
    "    def __mnist_loader(self, train: bool, batch_size: int) -> DataLoader:\n",
    "        '''\n",
    "        pytorch MNIST train & test 데이터 로더 반환\n",
    "        + z-normalization\n",
    "        + Flatten\n",
    "        '''\n",
    "        transform = Compose([\n",
    "            ToTensor(),\n",
    "            Normalize(mean=(0.1307, ), std=(0.3081, )),\n",
    "            Lambda(lambda x: torch.flatten(x)),\n",
    "        ])\n",
    "\n",
    "        loader = DataLoader(\n",
    "            MNIST(\n",
    "                root='./mnist/',\n",
    "                train=train,\n",
    "                transform=transform,\n",
    "                download=True\n",
    "            ), shuffle=train, batch_size=batch_size\n",
    "        )\n",
    "        return loader\n",
    "    \n",
    "    def __create_input_data(self, x: Tensor, y: Tensor) -> Tensor:\n",
    "        '''\n",
    "        forward-forward Model 입력 데이터 반환\n",
    "\n",
    "        X shape: Batch x 784(Ch * Height * Width)\n",
    "        Y shape: Batch x Label\n",
    "        '''\n",
    "        batch_size = y.size(0)\n",
    "\n",
    "        x_ = x.clone()\n",
    "        x_[:, :10] = 0.\n",
    "        x_[range(batch_size), y] = x_.max()\n",
    "        return x_\n",
    "    \n",
    "    def __iter__(self):\n",
    "        return self\n",
    "    \n",
    "    def __next__(self) -> ((Tensor, Tensor), (Tensor, Tensor)):\n",
    "        pos_x, pos_y = next(self.dataLoader)\n",
    "        neg_x, _ = next(self.dataLoader)\n",
    "        neg_y = torch.randint(low=0, high=10, size=(self.batch_size, ))\n",
    "        \n",
    "        pos_x = self.__create_input_data(pos_x, pos_y)\n",
    "        neg_x = self.__create_input_data(neg_x, neg_y)\n",
    "        return (pos_x, pos_y), (neg_x, neg_y)"
   ]
  },
  {
   "cell_type": "code",
   "execution_count": 4,
   "id": "80796f08",
   "metadata": {},
   "outputs": [],
   "source": [
    "class FFLinear(nn.Linear):\n",
    "    __constants__ = ('in_features', 'out_features')\n",
    "    in_features: int\n",
    "    out_features: int\n",
    "    weight: Tensor\n",
    "        \n",
    "    def __init__(self, in_feature: int, out_features: int, bias: bool=True, device=None, dtype=None) -> None:\n",
    "        factory_kwargs = {'device': device, 'dtype': dtype}\n",
    "        super(FFLinear, self).__init__(in_feature, out_features, bias, **factory_kwargs)\n",
    "        \n",
    "        self.activation = nn.ReLU()\n",
    "        self.optim = torch.optim.SGD(self.parameters(), lr=0.01)\n",
    "        self.threshold = 2.0\n",
    "        \n",
    "    def forward(self, input) -> Tensor:\n",
    "        out = self.__layerNorm(input)\n",
    "        out = F.linear(out, self.weight, self.bias)\n",
    "        return self.activation(out)\n",
    "    \n",
    "    def update(self, pos_x, neg_x) -> (Tensor, (Tensor, Tensor)):\n",
    "        pos_out = self.forward(pos_x).pow(exponent=2).mean(dim=1) #shape: (Batch, )\n",
    "        neg_out = self.forward(neg_x).pow(exponent=2).mean(dim=1) #shape: (Batch, )\n",
    "        \n",
    "        loss = torch.cat([-pos_out + self.threshold, neg_out - self.threshold])\n",
    "        loss = torch.log(1. + torch.exp(loss)).mean()\n",
    "        \n",
    "        self.optim.zero_grad()\n",
    "        loss.backward()\n",
    "        self.optim.step()\n",
    "        return loss, (self.forward(pos_x).detach(), self.forward(neg_x).detach())\n",
    "    \n",
    "    def __layerNorm(self, input: Tensor, eps: float=1e-4) -> Tensor:\n",
    "        '''\n",
    "        + 참고 repository의 정규화 코드\n",
    "        input / (input.norm(p=2, dim=1, keepdim=True) + 1e-4)\n",
    "        \n",
    "        ## https://github.com/mohammadpz/pytorch_forward_forward/blob/main/main.py\n",
    "        '''\n",
    "        mean_ = input.mean(dim=1, keepdim=True)\n",
    "        var_ = input.var(dim=1, keepdim=True, unbiased=False) #unbiased True=(N-1), False=N\n",
    "        return (input - mean_) / torch.sqrt(var_ + eps)"
   ]
  },
  {
   "cell_type": "code",
   "execution_count": 5,
   "id": "915996de",
   "metadata": {},
   "outputs": [],
   "source": [
    "class FFModel(nn.Module):\n",
    "    __constants__ = ('dims', )\n",
    "    dims: list\n",
    "        \n",
    "    def __init__(self, dims: list, device='cpu') -> None:\n",
    "        super(FFModel, self).__init__()\n",
    "        self.layers = tuple(FFLinear(dims[d], dims[d+1]).to(device) for d in range(len(dims) - 1))\n",
    "\n",
    "    def forward(self, input) -> Tensor:\n",
    "        pass\n",
    "    \n",
    "    def update(self, pos_x, neg_x) -> None:\n",
    "        pos_out, neg_out = pos_x, neg_x\n",
    "        for layer in self.layers:\n",
    "            loss, (pos_out, neg_out) = layer.update(pos_out, neg_out)"
   ]
  },
  {
   "cell_type": "code",
   "execution_count": 13,
   "id": "59957da9",
   "metadata": {},
   "outputs": [
    {
     "ename": "StopIteration",
     "evalue": "",
     "output_type": "error",
     "traceback": [
      "\u001b[1;31m---------------------------------------------------------------------------\u001b[0m",
      "\u001b[1;31mStopIteration\u001b[0m                             Traceback (most recent call last)",
      "Cell \u001b[1;32mIn[13], line 5\u001b[0m\n\u001b[0;32m      2\u001b[0m model \u001b[38;5;241m=\u001b[39m FFModel(dims\u001b[38;5;241m=\u001b[39m(\u001b[38;5;241m784\u001b[39m, \u001b[38;5;241m100\u001b[39m, \u001b[38;5;241m100\u001b[39m))\n\u001b[0;32m      4\u001b[0m \u001b[38;5;28;01mfor\u001b[39;00m i \u001b[38;5;129;01min\u001b[39;00m \u001b[38;5;28mrange\u001b[39m(\u001b[38;5;241m10001\u001b[39m):\n\u001b[1;32m----> 5\u001b[0m     x, y \u001b[38;5;241m=\u001b[39m \u001b[38;5;28;43mnext\u001b[39;49m\u001b[43m(\u001b[49m\u001b[43mtest_loader\u001b[49m\u001b[43m)\u001b[49m\n",
      "File \u001b[1;32mY:\\programFiles\\anaconda3\\envs\\forward\\lib\\site-packages\\torch\\utils\\data\\dataloader.py:652\u001b[0m, in \u001b[0;36m_BaseDataLoaderIter.__next__\u001b[1;34m(self)\u001b[0m\n\u001b[0;32m    649\u001b[0m \u001b[38;5;28;01mif\u001b[39;00m \u001b[38;5;28mself\u001b[39m\u001b[38;5;241m.\u001b[39m_sampler_iter \u001b[38;5;129;01mis\u001b[39;00m \u001b[38;5;28;01mNone\u001b[39;00m:\n\u001b[0;32m    650\u001b[0m     \u001b[38;5;66;03m# TODO(https://github.com/pytorch/pytorch/issues/76750)\u001b[39;00m\n\u001b[0;32m    651\u001b[0m     \u001b[38;5;28mself\u001b[39m\u001b[38;5;241m.\u001b[39m_reset()  \u001b[38;5;66;03m# type: ignore[call-arg]\u001b[39;00m\n\u001b[1;32m--> 652\u001b[0m data \u001b[38;5;241m=\u001b[39m \u001b[38;5;28;43mself\u001b[39;49m\u001b[38;5;241;43m.\u001b[39;49m\u001b[43m_next_data\u001b[49m\u001b[43m(\u001b[49m\u001b[43m)\u001b[49m\n\u001b[0;32m    653\u001b[0m \u001b[38;5;28mself\u001b[39m\u001b[38;5;241m.\u001b[39m_num_yielded \u001b[38;5;241m+\u001b[39m\u001b[38;5;241m=\u001b[39m \u001b[38;5;241m1\u001b[39m\n\u001b[0;32m    654\u001b[0m \u001b[38;5;28;01mif\u001b[39;00m \u001b[38;5;28mself\u001b[39m\u001b[38;5;241m.\u001b[39m_dataset_kind \u001b[38;5;241m==\u001b[39m _DatasetKind\u001b[38;5;241m.\u001b[39mIterable \u001b[38;5;129;01mand\u001b[39;00m \\\n\u001b[0;32m    655\u001b[0m         \u001b[38;5;28mself\u001b[39m\u001b[38;5;241m.\u001b[39m_IterableDataset_len_called \u001b[38;5;129;01mis\u001b[39;00m \u001b[38;5;129;01mnot\u001b[39;00m \u001b[38;5;28;01mNone\u001b[39;00m \u001b[38;5;129;01mand\u001b[39;00m \\\n\u001b[0;32m    656\u001b[0m         \u001b[38;5;28mself\u001b[39m\u001b[38;5;241m.\u001b[39m_num_yielded \u001b[38;5;241m>\u001b[39m \u001b[38;5;28mself\u001b[39m\u001b[38;5;241m.\u001b[39m_IterableDataset_len_called:\n",
      "File \u001b[1;32mY:\\programFiles\\anaconda3\\envs\\forward\\lib\\site-packages\\torch\\utils\\data\\dataloader.py:691\u001b[0m, in \u001b[0;36m_SingleProcessDataLoaderIter._next_data\u001b[1;34m(self)\u001b[0m\n\u001b[0;32m    690\u001b[0m \u001b[38;5;28;01mdef\u001b[39;00m \u001b[38;5;21m_next_data\u001b[39m(\u001b[38;5;28mself\u001b[39m):\n\u001b[1;32m--> 691\u001b[0m     index \u001b[38;5;241m=\u001b[39m \u001b[38;5;28;43mself\u001b[39;49m\u001b[38;5;241;43m.\u001b[39;49m\u001b[43m_next_index\u001b[49m\u001b[43m(\u001b[49m\u001b[43m)\u001b[49m  \u001b[38;5;66;03m# may raise StopIteration\u001b[39;00m\n\u001b[0;32m    692\u001b[0m     data \u001b[38;5;241m=\u001b[39m \u001b[38;5;28mself\u001b[39m\u001b[38;5;241m.\u001b[39m_dataset_fetcher\u001b[38;5;241m.\u001b[39mfetch(index)  \u001b[38;5;66;03m# may raise StopIteration\u001b[39;00m\n\u001b[0;32m    693\u001b[0m     \u001b[38;5;28;01mif\u001b[39;00m \u001b[38;5;28mself\u001b[39m\u001b[38;5;241m.\u001b[39m_pin_memory:\n",
      "File \u001b[1;32mY:\\programFiles\\anaconda3\\envs\\forward\\lib\\site-packages\\torch\\utils\\data\\dataloader.py:642\u001b[0m, in \u001b[0;36m_BaseDataLoaderIter._next_index\u001b[1;34m(self)\u001b[0m\n\u001b[0;32m    641\u001b[0m \u001b[38;5;28;01mdef\u001b[39;00m \u001b[38;5;21m_next_index\u001b[39m(\u001b[38;5;28mself\u001b[39m):\n\u001b[1;32m--> 642\u001b[0m     \u001b[38;5;28;01mreturn\u001b[39;00m \u001b[38;5;28;43mnext\u001b[39;49m\u001b[43m(\u001b[49m\u001b[38;5;28;43mself\u001b[39;49m\u001b[38;5;241;43m.\u001b[39;49m\u001b[43m_sampler_iter\u001b[49m\u001b[43m)\u001b[49m\n",
      "\u001b[1;31mStopIteration\u001b[0m: "
     ]
    }
   ],
   "source": [
    "dataLoader = MnistLoader(train=True, batch_size=2)\n",
    "\n",
    "for pos, neg in dataLoader:\n",
    "    pos_x, pos_y = pos\n",
    "    neg_x, neg_y = neg\n",
    "    \n",
    "    plt.imshow(pos_x[0].view(28, 28))\n",
    "    print(pos_y[0])\n",
    "    break\n",
    "    \n",
    "    \n",
    "train_loader, test_loader = mnist_loader(train_batch_size=2, test_batch_size=1)\n",
    "model = FFModel(dims=(784, 100, 100))\n",
    "\n",
    "for i in range(10001):\n",
    "    x, y = next(test_loader)\n"
   ]
  },
  {
   "cell_type": "code",
   "execution_count": null,
   "id": "9b784336",
   "metadata": {},
   "outputs": [],
   "source": []
  }
 ],
 "metadata": {
  "kernelspec": {
   "display_name": "Python 3 (ipykernel)",
   "language": "python",
   "name": "python3"
  },
  "language_info": {
   "codemirror_mode": {
    "name": "ipython",
    "version": 3
   },
   "file_extension": ".py",
   "mimetype": "text/x-python",
   "name": "python",
   "nbconvert_exporter": "python",
   "pygments_lexer": "ipython3",
   "version": "3.9.12"
  }
 },
 "nbformat": 4,
 "nbformat_minor": 5
}
